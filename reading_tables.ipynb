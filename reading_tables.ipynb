{
 "cells": [
  {
   "cell_type": "code",
   "execution_count": 1,
   "id": "991c0fbe",
   "metadata": {},
   "outputs": [],
   "source": [
    "from astropy.table import Table"
   ]
  },
  {
   "cell_type": "code",
   "execution_count": 8,
   "id": "7cbb9883",
   "metadata": {},
   "outputs": [
    {
     "data": {
      "text/html": [
       "<i>Row index=59</i>\n",
       "<table id=\"table4819155024\">\n",
       "<thead><tr><th>EPIC</th><th>Coord</th><th>OName</th><th>Gaia</th><th>Vmag</th><th>Ksmag</th><th>(V-Ks)o</th><th>(V-Ks)u</th><th>E(V-Ks)</th><th>Ksmag0</th><th>(V-Ks)0</th><th>Uncert</th><th>P1</th><th>P2</th><th>P3</th><th>P4</th><th>Member</th><th>IRexcess</th><th>IRexStr</th><th>Slope</th><th>Class</th><th>dip</th><th>burst</th><th>sin/mult</th><th>dd</th><th>ddmove</th><th>shape</th><th>beat</th><th>complex</th><th>closep</th><th>distp</th><th>pulse</th></tr></thead>\n",
       "<thead><tr><th></th><th></th><th></th><th></th><th>mag</th><th>mag</th><th>mag</th><th>mag</th><th>mag</th><th>mag</th><th>mag</th><th></th><th>d</th><th>d</th><th>d</th><th>d</th><th></th><th></th><th></th><th></th><th></th><th></th><th></th><th></th><th></th><th></th><th></th><th></th><th></th><th></th><th></th><th></th></tr></thead>\n",
       "<thead><tr><th>int64</th><th>str18</th><th>str23</th><th>str19</th><th>float64</th><th>float64</th><th>float64</th><th>float64</th><th>float64</th><th>float64</th><th>float64</th><th>str4</th><th>float64</th><th>float64</th><th>float64</th><th>float64</th><th>str11</th><th>str5</th><th>str4</th><th>float64</th><th>str4</th><th>str3</th><th>str3</th><th>str6</th><th>str3</th><th>str3</th><th>str3</th><th>str3</th><th>str3</th><th>str3</th><th>str3</th><th>str2</th></tr></thead>\n",
       "<tr><td>210690913</td><td>043138.47+181358.0</td><td>V*HLTau</td><td>--</td><td>15.1</td><td>7.41</td><td>7.69</td><td>7.69</td><td>4.63</td><td>6.81</td><td>3.06</td><td>1, 2</td><td>--</td><td>--</td><td>--</td><td>--</td><td>member</td><td>yes</td><td>k</td><td>0.2</td><td>flat</td><td>--</td><td>--</td><td>single</td><td>no</td><td>no</td><td>no</td><td>no</td><td>no</td><td>no</td><td>no</td><td>no</td></tr>\n",
       "</table>"
      ],
      "text/plain": [
       "<Row index=59>\n",
       "   EPIC         Coord         OName   Gaia   Vmag   Ksmag  (V-Ks)o (V-Ks)u E(V-Ks)  Ksmag0 (V-Ks)0 Uncert    P1      P2      P3      P4   Member IRexcess IRexStr  Slope  Class dip  burst sin/mult  dd  ddmove shape beat complex closep distp pulse\n",
       "                                             mag     mag     mag     mag     mag     mag     mag             d       d       d       d                                                                                                               \n",
       "  int64         str18         str23  str19 float64 float64 float64 float64 float64 float64 float64  str4  float64 float64 float64 float64 str11    str5     str4  float64  str4 str3  str3   str6   str3  str3   str3 str3   str3   str3   str3  str2\n",
       "--------- ------------------ ------- ----- ------- ------- ------- ------- ------- ------- ------- ------ ------- ------- ------- ------- ------ -------- ------- ------- ----- ---- ----- -------- ---- ------ ----- ---- ------- ------ ----- -----\n",
       "210690913 043138.47+181358.0 V*HLTau    --    15.1    7.41    7.69    7.69    4.63    6.81    3.06   1, 2      --      --      --      -- member      yes       k     0.2  flat   --    --   single   no     no    no   no      no     no    no    no"
      ]
     },
     "execution_count": 8,
     "metadata": {},
     "output_type": "execute_result"
    }
   ],
   "source": [
    "table2Rebull2020 = Table.read('../hltau_tables/Rebull2020Table2fixed.txt',format='mrt')\n",
    "table2Rebull2020[59]#.show_in_notebook()"
   ]
  },
  {
   "cell_type": "code",
   "execution_count": null,
   "id": "0d166b39",
   "metadata": {},
   "outputs": [],
   "source": []
  }
 ],
 "metadata": {
  "kernelspec": {
   "display_name": "Python 3 (ipykernel)",
   "language": "python",
   "name": "python3"
  },
  "language_info": {
   "codemirror_mode": {
    "name": "ipython",
    "version": 3
   },
   "file_extension": ".py",
   "mimetype": "text/x-python",
   "name": "python",
   "nbconvert_exporter": "python",
   "pygments_lexer": "ipython3",
   "version": "3.11.9"
  }
 },
 "nbformat": 4,
 "nbformat_minor": 5
}
