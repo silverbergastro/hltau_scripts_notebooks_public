{
 "cells": [
  {
   "cell_type": "markdown",
   "id": "a2077d5d-0353-4ca5-9e4f-5f278edfb4b7",
   "metadata": {},
   "source": [
    "# running_sherpa_in_notebook_hltau_clean\n",
    "\n",
    "This notebook runs the series of sherpa scripts used to analyze extracted spectra, using basic scripts for analysis that are stored in basic_scripts.py."
   ]
  },
  {
   "cell_type": "code",
   "execution_count": 1,
   "id": "cc833b11",
   "metadata": {},
   "outputs": [],
   "source": [
    "import matplotlib.pyplot as plt\n",
    "from sherpa.astro.ui import *\n",
    "import numpy as np\n",
    "from astropy.table import Table\n",
    "from astropy import units as u\n",
    "import matplotlib as mpl\n",
    "from basic_scripts import *\n",
    "import time\n",
    "import pprint\n",
    "import copy"
   ]
  },
  {
   "cell_type": "markdown",
   "id": "4cbc1e98-5b08-46a4-8852-a84244598e74",
   "metadata": {},
   "source": [
    "Load data following an existing script"
   ]
  },
  {
   "cell_type": "code",
   "execution_count": null,
   "id": "99c2d8bd",
   "metadata": {},
   "outputs": [],
   "source": [
    "%run load_hltau_into_sherpa.py"
   ]
  },
  {
   "cell_type": "code",
   "execution_count": null,
   "id": "c133edb5",
   "metadata": {},
   "outputs": [],
   "source": [
    "# Adjust the analyzed spectral region of the spectra from obsid 0865040401 to account for the flare in XZ Tau during this\n",
    "# observation.\n",
    "\n",
    "ignore_id(86504040101,None,1.2)\n",
    "ignore_id(86504040102,None,1.2)\n",
    "ignore_id(86504040103,None,1.2)"
   ]
  },
  {
   "cell_type": "markdown",
   "id": "5858a0fa-0852-4ff1-8caf-b8b7c9db9757",
   "metadata": {},
   "source": [
    "Find initial best-fit parameters for the data, using a Monte Carlo method to search the full parameter space for a best fit. Free parameters are absorption (a1.nH), plasma temperature (s1.kT), plasma normalization (s1.norm), and abundance of iron relative to solar (s1.Fe). Abundances of calcium, magnesium, nickel, and silicon are fixed to the iron abundance as well. We then use the Levenberg-Marquardt method to re-fit, assuming that the Monte-Carlo method has found the best region of parameter space, for efficiency purposes. Results are stored in a dictionary."
   ]
  },
  {
   "cell_type": "code",
   "execution_count": null,
   "id": "a78d22c3",
   "metadata": {},
   "outputs": [],
   "source": [
    "set_method('moncar')\n",
    "\n",
    "freeze(s1.Ne)\n",
    "thaw(s1.kT)\n",
    "\n",
    "startTime = time.time()\n",
    "fit(86504050101, 86504050102, 86504050103, 86504030101, 86504030102, 86504030103, \n",
    "    86504070101, 86504070102, 86504070103)#, 86504040101, 86504040103)\n",
    "endTime = time.time()\n",
    "print(endTime-startTime)\n",
    "\n",
    "testfit = get_fit_results()\n",
    "testfitDict = get_results_dict('AllBut401',testfit)"
   ]
  },
  {
   "cell_type": "code",
   "execution_count": null,
   "id": "664eb726",
   "metadata": {},
   "outputs": [],
   "source": [
    "set_method('levmar')\n",
    "#fit(50101, 50102, 50103, 20101, 20102, 20103, 30101, 30102, 30103, 70101, 70102, 70103, 60101, 60102, 60103)#, 40101, 40102, 40103)\n",
    "fit(86504030101, 86504030102, 86504030103, 86504050101, 86504050102, 86504050103, \n",
    "    86504070101, 86504070102, 86504070103)\n",
    "fitresultsOneTOneAbsDict = get_results_dict('FaintXMM',get_fit_results())"
   ]
  },
  {
   "cell_type": "code",
   "execution_count": null,
   "id": "32481956",
   "metadata": {},
   "outputs": [],
   "source": [
    "fitresultsOneTOneAbsDict"
   ]
  },
  {
   "cell_type": "code",
   "execution_count": null,
   "id": "20ab432a",
   "metadata": {},
   "outputs": [],
   "source": [
    "#set baseids for obsids, for easier calling going forward.\n",
    "baseids = [865040201,865040301,865040401,865040501,865040601,865040701]"
   ]
  },
  {
   "cell_type": "code",
   "execution_count": null,
   "id": "93241050-4e95-427e-bcc3-2e6bf01a74cf",
   "metadata": {},
   "outputs": [],
   "source": [
    "#Ensure that we are set properly at our initial model\n",
    "set_model_from_dict(fitresultsOneTOneAbsDict)"
   ]
  },
  {
   "cell_type": "code",
   "execution_count": null,
   "id": "af074cd4",
   "metadata": {},
   "outputs": [],
   "source": [
    "#Find three-sigma boundaries for our data to ensure that we don't stray too far out of the realm of reality based on our best fits.\n",
    "set_conf_opt('sigma',3.)\n",
    "conf(86504050101, 86504050102, 86504050103, 86504030101, 86504030102, 86504030103, \n",
    "     86504070101, 86504070102, 86504070103)#, 60101, 60102, 60103)\n",
    "confresultsFaintXMMbounds = get_conf_results()\n",
    "confresultsFaintXMMbounds"
   ]
  },
  {
   "cell_type": "code",
   "execution_count": null,
   "id": "ae641717",
   "metadata": {},
   "outputs": [],
   "source": [
    "print(confresultsFaintXMMbounds)"
   ]
  },
  {
   "cell_type": "code",
   "execution_count": null,
   "id": "3c8a60f2",
   "metadata": {},
   "outputs": [],
   "source": [
    "#Store bounds as a dictionary\n",
    "confresultsFaintXMMboundsDict = get_confresults_dict(fitresultsOneTOneAbsDict,confresultsFaintXMMbounds)\n",
    "confresultsFaintXMMboundsDict"
   ]
  },
  {
   "cell_type": "code",
   "execution_count": null,
   "id": "82152daf",
   "metadata": {},
   "outputs": [],
   "source": [
    "#Reset our confidence to 1-sigma, find best fits with uncertainties.\n",
    "set_conf_opt('sigma',1.)\n",
    "conf(86504050101, 86504050102, 86504050103, 86504030101, 86504030102, 86504030103, \n",
    "     86504070101, 86504070102, 86504070103)#, 60101, 60102, 60103)\n",
    "confresultsFaintXMM = get_conf_results()\n",
    "confresultsFaintXMM"
   ]
  },
  {
   "cell_type": "code",
   "execution_count": null,
   "id": "dbda085f",
   "metadata": {},
   "outputs": [],
   "source": [
    "confresultsFaintXMMDict = get_confresults_dict(fitresultsOneTOneAbsDict,confresultsFaintXMM)\n",
    "confresultsFaintXMMDict"
   ]
  },
  {
   "cell_type": "code",
   "execution_count": null,
   "id": "da71222d",
   "metadata": {},
   "outputs": [],
   "source": [
    "# Start a table to store our results\n",
    "tableFitResultsFreeFe = Table(rows=[confresultsFaintXMMDict])\n",
    "tableFitResultsFreeFe"
   ]
  },
  {
   "cell_type": "code",
   "execution_count": null,
   "id": "e89fcb07",
   "metadata": {},
   "outputs": [],
   "source": [
    "# Store full list of observation ids to be fit.\n",
    "baseidsFull = [865040201,865040301,865040401,865040501,865040601,865040701,\n",
    "               20160,20161,21946,21947,21948,21950,21951,21952,21953,21954,21965,\n",
    "               20906,18915,\n",
    "               200810201,200810301,200810401,200810501,200810601,200810701,200810801,200810901,200811001,\n",
    "               200811101,200811201,\n",
    "               109060301]"
   ]
  },
  {
   "cell_type": "code",
   "execution_count": null,
   "id": "9de96907",
   "metadata": {},
   "outputs": [],
   "source": [
    "# Get best fits for all obsids, with various flags applied\n",
    "tableFitResultsFreeFeFilled = fit_all_obsids_hltau(baseidsFull,tableFitResultsFreeFe,fitresultsOneTOneAbsDict,\n",
    "                                                   '_FreeFeOneTOneAbs_20240806.png',confresultsFaintXMMboundsDict,5,\n",
    "                                                   inputbinflag=True)"
   ]
  },
  {
   "cell_type": "code",
   "execution_count": null,
   "id": "c1d7415e",
   "metadata": {},
   "outputs": [],
   "source": [
    "tableFitResultsFreeFeFilled.show_in_notebook()"
   ]
  },
  {
   "cell_type": "code",
   "execution_count": null,
   "id": "ca2164c2",
   "metadata": {},
   "outputs": [],
   "source": [
    "a1.nH.min = 0.\n",
    "a1.nH.max = 1000000.0"
   ]
  },
  {
   "cell_type": "markdown",
   "id": "0d1efec0-0cef-4016-b73f-213955d5d2c0",
   "metadata": {},
   "source": [
    "Use get_flux_info from basic_scripts to fill in table with flux information."
   ]
  },
  {
   "cell_type": "code",
   "execution_count": null,
   "id": "18edbee4-7303-4b93-9b69-a6e077870e79",
   "metadata": {},
   "outputs": [],
   "source": [
    "tableFitResultsFreeFeFilledWithFluxes = get_flux_info(tableFitResultsFreeFeFilled)"
   ]
  },
  {
   "cell_type": "code",
   "execution_count": null,
   "id": "ee55d3f3",
   "metadata": {},
   "outputs": [],
   "source": [
    "tableFitResultsFreeFeFilledWithFluxes.show_in_notebook()"
   ]
  },
  {
   "cell_type": "markdown",
   "id": "f9a857d1-4016-4ad4-bcc1-1d6f4d3c6eba",
   "metadata": {},
   "source": [
    "Do the same things again, but this time with the abundance of iron (and the elements pinned to the iron abundance) frozen at the best-fit value from the joint fit."
   ]
  },
  {
   "cell_type": "code",
   "execution_count": null,
   "id": "da99b6bf",
   "metadata": {},
   "outputs": [],
   "source": [
    "set_model_from_dict(fitresultsOneTOneAbsDict)\n",
    "freeze(s1.Fe)\n",
    "fit(86504030101, 86504030102, 86504030103, 86504050101, 86504050102, 86504050103, \n",
    "    86504070101, 86504070102, 86504070103)\n",
    "fitresultsOneTOneAbsFittedFeDict = get_results_dict('FaintXMM',get_fit_results())\n",
    "\n",
    "conf(86504050101, 86504050102, 86504050103, 86504030101, 86504030102, 86504030103, \n",
    "     86504070101, 86504070102, 86504070103)#, 60101, 60102, 60103)\n",
    "confresultsFaintXMMFittedFe = get_conf_results()\n",
    "\n",
    "confresultsFaintXMMFittedFeDict = get_confresults_dict(fitresultsOneTOneAbsFittedFeDict,confresultsFaintXMMFittedFe)\n",
    "confresultsFaintXMMFittedFeDict['obsid'] = 'FaintXMM'\n",
    "confresultsFaintXMMFittedFeDict"
   ]
  },
  {
   "cell_type": "code",
   "execution_count": null,
   "id": "45584fc6",
   "metadata": {},
   "outputs": [],
   "source": [
    "tableFitResultsFittedFe = Table(rows=[confresultsFaintXMMFittedFeDict])\n",
    "tableFitResultsFittedFe"
   ]
  },
  {
   "cell_type": "code",
   "execution_count": null,
   "id": "c488d1fb",
   "metadata": {},
   "outputs": [],
   "source": [
    "tableFitResultsFittedFeFilled = fit_all_obsids_hltau(baseidsFull,tableFitResultsFittedFe,fitresultsOneTOneAbsFittedFeDict,\n",
    "                                                     '_FittedFeOneTOneAbs_20240214.png',confresultsFaintXMMboundsDict,5,\n",
    "                                                     inputbinflag=True)"
   ]
  },
  {
   "cell_type": "code",
   "execution_count": null,
   "id": "87831231",
   "metadata": {},
   "outputs": [],
   "source": [
    "a1.nH.min = 0.\n",
    "a1.nH.max = 1000000.0\n",
    "tableFitResultsFittedFeFilled.show_in_notebook()"
   ]
  },
  {
   "cell_type": "code",
   "execution_count": null,
   "id": "1a522038-7bf3-4904-ad27-f04f9cbdb96a",
   "metadata": {},
   "outputs": [],
   "source": [
    "tableFitResultsFittedFeFilledWithFluxes = get_flux_info(tableFitResultsFittedFeFilled)\n",
    "tableFitResultsFittedFeFilledWithFluxes.show_in_notebook()"
   ]
  },
  {
   "cell_type": "markdown",
   "id": "dc30dae2-b006-4bae-9054-9aa0a5f5ffc8",
   "metadata": {},
   "source": [
    "Write tables to file"
   ]
  },
  {
   "cell_type": "code",
   "execution_count": null,
   "id": "cb8756f2",
   "metadata": {},
   "outputs": [],
   "source": [
    "tableFitResultsFreeFeFilledWithFluxes.write('hltau_tables/tableFitResultsFreeFe_20240214.ecsv',delimiter=',',overwrite=True)\n",
    "tableFitResultsFittedFeFilledWithFluxes.write('hltau_tables/tableFitResultsFittedFe_20240214.ecsv',delimiter=',',overwrite=True)"
   ]
  }
 ],
 "metadata": {
  "kernelspec": {
   "display_name": "Python 3 (ipykernel)",
   "language": "python",
   "name": "python3"
  },
  "language_info": {
   "codemirror_mode": {
    "name": "ipython",
    "version": 3
   },
   "file_extension": ".py",
   "mimetype": "text/x-python",
   "name": "python",
   "nbconvert_exporter": "python",
   "pygments_lexer": "ipython3",
   "version": "3.11.9"
  }
 },
 "nbformat": 4,
 "nbformat_minor": 5
}
